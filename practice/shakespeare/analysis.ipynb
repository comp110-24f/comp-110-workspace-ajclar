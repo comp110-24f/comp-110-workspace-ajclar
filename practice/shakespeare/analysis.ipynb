{
 "cells": [
  {
   "cell_type": "markdown",
   "metadata": {},
   "source": [
    "# Quantifying Shakespeare\n",
    "\n",
    "### What is the frequency of letters Shakespeare used in his complete works?\n",
    "\n",
    "First we'll load the text data **from a file** into a variable. "
   ]
  },
  {
   "cell_type": "code",
   "execution_count": 15,
   "metadata": {},
   "outputs": [
    {
     "name": "stdout",
     "output_type": "stream",
     "text": [
      "195951 lines in this file\n",
      "His tender heir might bear his memory:\n",
      "\n"
     ]
    }
   ],
   "source": [
    "lines: list[str] = [] # This is where we'll store lines of text\n",
    "file_handle = open(\"shakespeare.txt\", \"r\", encoding = \"utf8\")\n",
    "lines = file_handle.readlines()\n",
    "file_handle.close()\n",
    "\n",
    "print(f\"{len(lines)} lines in this file\")\n",
    "print(lines[5])"
   ]
  },
  {
   "cell_type": "markdown",
   "metadata": {},
   "source": [
    "Now let's count the frequencies of all character values in Shakespeare!"
   ]
  },
  {
   "cell_type": "code",
   "execution_count": 16,
   "metadata": {},
   "outputs": [
    {
     "name": "stdout",
     "output_type": "stream",
     "text": [
      "{' ': 828936, '1': 251, '\\n': 195950, 'F': 10745, 'r': 230146, 'o': 307066, 'm': 103836, 'f': 75293, 'a': 267711, 'i': 219466, 'e': 451920, 's': 238789, 't': 316602, 'c': 74007, 'u': 125847, 'w': 79507, 'd': 146542, 'n': 237964, ',': 94573, 'T': 38082, 'h': 239964, 'b': 50935, 'y': 92318, '’': 26332, 'g': 62902, 'v': 37304, 'B': 13149, 'p': 51219, 'l': 160766, 'H': 16605, ':': 3415, '-': 3895, 'M': 14173, 'k': 32404, 'A': 43404, 'W': 16654, 'P': 10271, '.': 91162, '2': 172, 'z': 1247, ';': 12919, 'I': 51523, '‘': 372, 'S': 29468, 'x': 5067, '3': 97, 'L': 20388, 'N': 23395, 'D': 12741, '?': 11396, 'O': 25769, 'C': 17823, '4': 147, 'U': 11459, 'q': 2810, '5': 89, '6': 140, '7': 77, 'j': 2983, 'R': 22423, 'Y': 7110, '(': 217, ')': 217, '8': 139, '9': 83, '0': 136, 'G': 9833, 'V': 3122, '—': 2503, 'E': 33823, 'K': 5434, '!': 7805, 'J': 1952, 'æ': 65, '&': 48, '“': 1232, '”': 1059, '[': 4255, '_': 9702, ']': 4253, 'Q': 1190, 'X': 332, 'œ': 17, 'Z': 548, 'Æ': 6, 'à': 14, 'É': 9, 'é': 44, 'è': 38, 'â': 2, 'ç': 33, 'î': 2, 'ê': 6, 'Ç': 19, '\\t': 4, 'ë': 4, '…': 3, \"'\": 1, 'À': 4, '*': 6}\n"
     ]
    }
   ],
   "source": [
    "frequencies: dict[str, int] = {}\n",
    "# For each line in the lines list\n",
    "    # For each character in the line\n",
    "        # Increase the count of that character's frequency in the dictionary\n",
    "\n",
    "for line in lines:\n",
    "    for character in line:\n",
    "        if not character in frequencies:\n",
    "            frequencies[character] = 0\n",
    "        frequencies[character] += 1\n",
    "\n",
    "print(frequencies)"
   ]
  },
  {
   "cell_type": "code",
   "execution_count": 17,
   "metadata": {},
   "outputs": [
    {
     "name": "stdout",
     "output_type": "stream",
     "text": [
      "{'f': 86038, 'r': 252569, 'o': 332835, 'm': 118009, 'a': 311115, 'i': 270989, 'e': 485743, 's': 268257, 't': 354684, 'c': 91830, 'u': 137306, 'w': 96161, 'd': 159283, 'n': 261359, 'h': 256569, 'b': 64084, 'y': 99428, 'g': 72735, 'v': 40426, 'p': 61490, 'l': 181154, 'k': 37838, 'z': 1795, 'x': 5399, 'q': 4000, 'j': 4935, 'æ': 71, 'œ': 17, 'à': 18, 'é': 53, 'è': 38, 'â': 2, 'ç': 52, 'î': 2, 'ê': 6, 'ë': 4}\n"
     ]
    }
   ],
   "source": [
    "clean_lines: list[str] = []\n",
    "frequencies: dict[str, int] = {}\n",
    "\n",
    "for line in lines:\n",
    "    for character in line:\n",
    "        if character.isalpha():\n",
    "            lower: str = character.lower()\n",
    "            if not lower in frequencies:\n",
    "                frequencies[lower] = 0\n",
    "            frequencies[lower] += 1\n",
    "\n",
    "print(frequencies)"
   ]
  }
 ],
 "metadata": {
  "kernelspec": {
   "display_name": "Python 3",
   "language": "python",
   "name": "python3"
  },
  "language_info": {
   "codemirror_mode": {
    "name": "ipython",
    "version": 3
   },
   "file_extension": ".py",
   "mimetype": "text/x-python",
   "name": "python",
   "nbconvert_exporter": "python",
   "pygments_lexer": "ipython3",
   "version": "3.12.4"
  }
 },
 "nbformat": 4,
 "nbformat_minor": 2
}
